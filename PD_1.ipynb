{
 "cells": [
  {
   "cell_type": "code",
   "execution_count": 10,
   "id": "48caa318-5c57-4bef-89c5-44d823b996d7",
   "metadata": {},
   "outputs": [
    {
     "name": "stdout",
     "output_type": "stream",
     "text": [
      "Overwriting app.py\n"
     ]
    }
   ],
   "source": [
    "%%file app.py\n",
    "# TWOJ KOD \n",
    "from flask import Flask, request, jsonify\n",
    "# from flask import \n",
    "# Create a flask\n",
    "app = Flask(__name__)\n",
    "\n",
    "@app.route('/api/v1.0/predict',methods=[\"GET\"])\n",
    "def rule():\n",
    "    number1 = float(request.args.get(\"number1\", 0))\n",
    "    number2 = float(request.args.get(\"number2\", 0))\n",
    "\n",
    "    \n",
    "    if number1 + number2 > 5.8:\n",
    "        prediction = 1\n",
    "    else:\n",
    "        prediction = 0\n",
    "\n",
    "    prediction_dict = {\"prediction\":prediction, \"features\":[number1,number2]}\n",
    "    return jsonify(prediction_dict)\n",
    "\n",
    "if __name__ == '__main__':\n",
    "    app.run(port=5005)\n",
    "    "
   ]
  },
  {
   "cell_type": "code",
   "execution_count": 7,
   "id": "42bd4a7f-44f3-40d3-b7aa-f9e0650360e5",
   "metadata": {},
   "outputs": [],
   "source": [
    "import requests\n",
    "import subprocess\n",
    "\n",
    "proces = subprocess.Popen([\"python\", \"app.py\"])\n",
    "\n",
    "adres = \"http://127.0.0.1:5000/api/v1.0/predict\"\n",
    "response = requests.get(adres)\n",
    "response.content\n",
    "\n",
    "proces.kill()"
   ]
  },
  {
   "cell_type": "code",
   "execution_count": 8,
   "id": "701c97ec-cba3-4aa5-a3bf-78d91c78b3e4",
   "metadata": {},
   "outputs": [
    {
     "data": {
      "text/plain": [
       "b'{\"features\":[5.9,0.0],\"prediction\":1}\\n'"
      ]
     },
     "execution_count": 8,
     "metadata": {},
     "output_type": "execute_result"
    }
   ],
   "source": [
    "adres = \"http://127.0.0.1:5000/api/v1.0/predict?number1=5.9\"\n",
    "response = requests.get(adres)\n",
    "response.content"
   ]
  },
  {
   "cell_type": "code",
   "execution_count": 9,
   "id": "4677e599-3c4a-4a96-9eaf-8d42869a60ec",
   "metadata": {},
   "outputs": [
    {
     "name": "stdout",
     "output_type": "stream",
     "text": [
      "Writing requirements.txt\n"
     ]
    }
   ],
   "source": [
    "%%file requirements.txt\n",
    "Flask==3.0.1"
   ]
  },
  {
   "cell_type": "code",
   "execution_count": null,
   "id": "1be40e65-052f-41c0-981c-e6526d0392c2",
   "metadata": {},
   "outputs": [],
   "source": [
    "%%file Dockerfile\n",
    "FROM python:3.11-slim-buster\n",
    "\n",
    "WORKDIR /app\n",
    "\n",
    "COPY requirements.txt requirements.txt\n",
    "\n",
    "RUN pip install -r requirements.txt\n",
    "\n",
    "COPY app.py .\n",
    "\n",
    "ENV FLASK_APP=app\n",
    "\n",
    "EXPOSE 5005\n",
    "CMD [\"flask\", \"run\", \"--host\", \"0.0.0.0\", \"--port\", \"5005\"]"
   ]
  }
 ],
 "metadata": {
  "kernelspec": {
   "display_name": "Python 3 (ipykernel)",
   "language": "python",
   "name": "python3"
  },
  "language_info": {
   "codemirror_mode": {
    "name": "ipython",
    "version": 3
   },
   "file_extension": ".py",
   "mimetype": "text/x-python",
   "name": "python",
   "nbconvert_exporter": "python",
   "pygments_lexer": "ipython3",
   "version": "3.11.6"
  }
 },
 "nbformat": 4,
 "nbformat_minor": 5
}
